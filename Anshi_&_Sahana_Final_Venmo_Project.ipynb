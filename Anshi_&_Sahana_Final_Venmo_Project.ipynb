{
  "nbformat": 4,
  "nbformat_minor": 0,
  "metadata": {
    "colab": {
      "name": "Anshi & Sahana Final Venmo Project.ipynb",
      "provenance": [],
      "include_colab_link": true
    },
    "kernelspec": {
      "name": "python3",
      "display_name": "Python 3"
    }
  },
  "cells": [
    {
      "cell_type": "markdown",
      "metadata": {
        "id": "view-in-github",
        "colab_type": "text"
      },
      "source": [
        "<a href=\"https://colab.research.google.com/github/2725anshik/Venmo-project/blob/main/Anshi_%26_Sahana_Final_Venmo_Project.ipynb\" target=\"_parent\"><img src=\"https://colab.research.google.com/assets/colab-badge.svg\" alt=\"Open In Colab\"/></a>"
      ]
    },
    {
      "cell_type": "code",
      "metadata": {
        "id": "EBaZVuChfFGl"
      },
      "source": [
        "#description of what we want to build\r\n",
        "\r\n",
        "#Entering in 3 users that have a balance and name\r\n",
        "#Making sure that the balance is valid \r\n",
        "#Minimum balance of $10 dollars no matter what\r\n",
        "\r\n",
        "#ANother\r\n",
        "\r\n",
        "\r\n",
        "#Cell 1 creates 3 users and asks input for what their balances and names are?\r\n",
        "#Checks if their valid -dw ab it for now\r\n",
        "\r\n",
        "#Cell 2 makes it so that you can transfer input amount to another account for payment\r\n",
        "#if statements\r\n",
        "\r\n",
        "#Cell 3 requests and immediatly takes money out of other people's accounts\r\n",
        "#if statements\r\n",
        "\r\n",
        "#Venmo takes 2% of every transaction. so if u request 20 dollars, venmo takes 0.4 dollars\r\n",
        "#THINGS TO KEEP IN MIND\r\n",
        "#No one should go under the minimum balance\r\n",
        "#Tranfer amount Venmo will take\r\n",
        "#Whenever user does something that yhou know isn't possible, youjust print tha"
      ],
      "execution_count": null,
      "outputs": []
    },
    {
      "cell_type": "code",
      "metadata": {
        "id": "Se-qYVELinxw"
      },
      "source": [
        "anshi= 100\r\n",
        "sahana = 100\r\n",
        "nandin = 100  # make transfer input variable\r\n",
        "if (sahana > 15):    # tranfer amount + 10 < Sahana\r\n",
        "  print(\"transfer ten to Anshi\")\r\n",
        "  "
      ],
      "execution_count": null,
      "outputs": []
    }
  ]
}